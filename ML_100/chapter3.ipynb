{
 "cells": [
  {
   "cell_type": "code",
   "execution_count": 4,
   "id": "75e06eba",
   "metadata": {},
   "outputs": [
    {
     "data": {
      "text/plain": [
       "'d:\\\\data_analysis_lab\\\\ML_100'"
      ]
     },
     "execution_count": 4,
     "metadata": {},
     "output_type": "execute_result"
    }
   ],
   "source": [
    "import pandas as pd\n",
    "from IPython.display import display, clear_output\n",
    "import os\n",
    "\n",
    "os.getcwd()"
   ]
  },
  {
   "cell_type": "code",
   "execution_count": 8,
   "id": "4bab884b",
   "metadata": {},
   "outputs": [
    {
     "name": "stdout",
     "output_type": "stream",
     "text": [
      "   order_id  store_id customer_id  coupon_cd  sales_detail_id  \\\n",
      "0  34104383        11   C65806632         57         61573513   \n",
      "1  70652318        59   C09760173         37         54068709   \n",
      "2  71640388       195   C61227084         17         93678366   \n",
      "3  75673365       127   C64119972         17          5287952   \n",
      "4   9077529       174   C10231192         18         18248867   \n",
      "\n",
      "  order_accept_date    delivered_date  takeout_flag  total_amount  status  \\\n",
      "0  2021-04-01 11:00  2021-04-01 11:39             1         28270       1   \n",
      "1  2021-04-01 11:00  2021-04-01 11:34             0         28270       2   \n",
      "2  2021-04-01 11:00  2021-04-01 11:54             0         26470       9   \n",
      "3  2021-04-01 11:00  2021-04-01 11:17             0         23080       2   \n",
      "4  2021-04-01 11:00  2021-04-01 11:35             0         46920       2   \n",
      "\n",
      "  store_name area_cd wide_area narrow_area  \n",
      "0       자양로점      SL        서울          서울  \n",
      "1     가마산로2점      SL        서울          서울  \n",
      "2       화중로점      GB        경기        경기북부  \n",
      "3       분포로점      BS        부산          부산  \n",
      "4      하남산단점      GJ        광주          광주  \n"
     ]
    }
   ],
   "source": [
    "m_store = pd.read_csv(\"d:\\\\data_analysis_lab\\\\ML_100\\\\data\\\\m_store.csv\")\n",
    "m_area = pd.read_csv(\"d:\\\\data_analysis_lab\\\\ML_100\\\\data\\\\m_area.csv\")\n",
    "order_data = pd.read_csv(\"d:\\\\data_analysis_lab\\\\ML_100\\\\data\\\\tbl_order_202104.csv\")\n",
    "order_data = pd.merge(order_data, m_store, on=\"store_id\", how=\"left\")\n",
    "order_data = pd.merge(order_data, m_area, on=\"area_cd\", how=\"left\")\n",
    "print(order_data.head())"
   ]
  },
  {
   "cell_type": "code",
   "execution_count": 9,
   "id": "a0c6ad5f",
   "metadata": {},
   "outputs": [
    {
     "name": "stdout",
     "output_type": "stream",
     "text": [
      "   order_id  store_id customer_id  coupon_cd  sales_detail_id  \\\n",
      "0  34104383        11   C65806632         57         61573513   \n",
      "1  70652318        59   C09760173         37         54068709   \n",
      "2  71640388       195   C61227084         17         93678366   \n",
      "3  75673365       127   C64119972         17          5287952   \n",
      "4   9077529       174   C10231192         18         18248867   \n",
      "\n",
      "  order_accept_date    delivered_date  takeout_flag  total_amount  status  \\\n",
      "0  2021-04-01 11:00  2021-04-01 11:39             1         28270       1   \n",
      "1  2021-04-01 11:00  2021-04-01 11:34             0         28270       2   \n",
      "2  2021-04-01 11:00  2021-04-01 11:54             0         26470       9   \n",
      "3  2021-04-01 11:00  2021-04-01 11:17             0         23080       2   \n",
      "4  2021-04-01 11:00  2021-04-01 11:35             0         46920       2   \n",
      "\n",
      "  store_name area_cd wide_area narrow_area takeout_name status_name  \n",
      "0       자양로점      SL        서울          서울      takeout        결제완료  \n",
      "1     가마산로2점      SL        서울          서울     delivery        배달완료  \n",
      "2       화중로점      GB        경기        경기북부     delivery         NaN  \n",
      "3       분포로점      BS        부산          부산     delivery        배달완료  \n",
      "4      하남산단점      GJ        광주          광주     delivery        배달완료  \n"
     ]
    }
   ],
   "source": [
    "# 마스터에 없는 코드에 대응한 문자열 설정\n",
    "order_data.loc[order_data['takeout_flag'] == 0, 'takeout_name'] = \"delivery\"\n",
    "order_data.loc[order_data['takeout_flag'] == 1, 'takeout_name'] = 'takeout'\n",
    "\n",
    "order_data.loc[order_data['status'] == 0, 'status_name'] = '주문접수'\n",
    "order_data.loc[order_data['status'] == 1, 'status_name'] = '결제완료'\n",
    "order_data.loc[order_data['status'] == 2, 'status_name'] = '배달완료'\n",
    "order_data.loc[order_data['status'] == 3, 'status_name'] = '주문취소'\n",
    "print(order_data.head())"
   ]
  },
  {
   "cell_type": "code",
   "execution_count": null,
   "id": "9d0b2f00",
   "metadata": {},
   "outputs": [],
   "source": [
    "from ipywidgets import Dropdown"
   ]
  },
  {
   "cell_type": "code",
   "execution_count": null,
   "id": "edd564e3",
   "metadata": {},
   "outputs": [],
   "source": [
    "\n",
    "def order_by_store(val) :\n",
    "    clear_output()\n",
    "    display(dropdown)\n",
    "    pick_data = order_data.loc[(order_data['store_name'] == val['new']) & (order_data['status'].isin([1,2]))]\n",
    "    \n",
    "    display(pick_data.head())"
   ]
  },
  {
   "cell_type": "code",
   "execution_count": null,
   "id": "35411dba",
   "metadata": {},
   "outputs": [],
   "source": [
    "# 드롭다운 메뉴의 선택지로 사용될 매장 이름 목록생성\n",
    "store_list = m_store['store_name'].to_list()\n",
    "\n",
    "dropdown = Dropdown(options=store_list, description='지역선택 : ')\n",
    "# observe : 드롭다운 값이 변경될 때 마다 order_by_store 함수 자동 실행\n",
    "dropdown.observe(order_by_store, names=\"value\")\n",
    "display(dropdown)"
   ]
  },
  {
   "cell_type": "code",
   "execution_count": null,
   "id": "cd984b1d",
   "metadata": {},
   "outputs": [],
   "source": []
  }
 ],
 "metadata": {
  "kernelspec": {
   "display_name": "base",
   "language": "python",
   "name": "python3"
  },
  "language_info": {
   "codemirror_mode": {
    "name": "ipython",
    "version": 3
   },
   "file_extension": ".py",
   "mimetype": "text/x-python",
   "name": "python",
   "nbconvert_exporter": "python",
   "pygments_lexer": "ipython3",
   "version": "3.12.7"
  }
 },
 "nbformat": 4,
 "nbformat_minor": 5
}
